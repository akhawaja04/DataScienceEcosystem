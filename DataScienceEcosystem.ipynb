{
 "cells": [
  {
   "cell_type": "markdown",
   "id": "daf4a146-ec52-4176-81da-34c7555652b8",
   "metadata": {
    "tags": []
   },
   "source": [
    "# Exercise 1: Create a Jupyter Notebook\n",
    "DataScienceEcosystem.ipynb has been created. You're viewing it."
   ]
  },
  {
   "cell_type": "markdown",
   "id": "279abc93-9f90-47d3-995b-bf4018a8684e",
   "metadata": {},
   "source": [
    "<H1>Exercise 2 - Create a markdown cell with the title of the notebook.</H2>"
   ]
  },
  {
   "cell_type": "markdown",
   "id": "59233af5-6ccb-43e8-a478-e0c7be818ef1",
   "metadata": {
    "tags": []
   },
   "source": [
    "<h1>Data Science Tools and Ecosystem</h1>"
   ]
  },
  {
   "cell_type": "markdown",
   "id": "87f1e747-655e-4173-9cca-dc80dc89ddf6",
   "metadata": {},
   "source": [
    "<H1>Exercise 3 - Create a markdown cell for an introduction.</H2>"
   ]
  },
  {
   "cell_type": "markdown",
   "id": "28e69e3d-ddd4-4d85-b0fe-187d03fc42ec",
   "metadata": {
    "tags": []
   },
   "source": [
    "<p>In this notebook, Data Science Tools and Ecosystem are summarized.<p>\n",
    "<strong>Objectives:</strong>\n",
    "<ul>\n",
    "    <li>Languages used in Data sciences</li>\n",
    "    <li>libraries used in Data Scientist</li>\n",
    "    <li>Environments for Data science tools</li>\n",
    "</ul>\n",
    "    "
   ]
  },
  {
   "cell_type": "markdown",
   "id": "da960ed7-a660-4003-b93f-e3431a3a819d",
   "metadata": {
    "tags": []
   },
   "source": [
    "<strong>Exercise 4 - Create a markdown cell to list data science languages. </strong>"
   ]
  },
  {
   "cell_type": "markdown",
   "id": "83c8d44b-7361-4b61-a299-29d3e6284be4",
   "metadata": {
    "tags": []
   },
   "source": [
    "Some of the popular languages that Data Scientists use are:\n",
    "<ol>\n",
    "    <li>Python.</li>\n",
    "    <li>R.</li>\n",
    "    <li>SQL.</li>\n",
    "    <li>Java.</li>\n",
    "    <li>Julia.</li>\n",
    "    <li>Scala.</li>\n",
    "    <li>C/C++.</li>\n",
    "    <li>JavaScript.</li>\n",
    "</ol>\n"
   ]
  },
  {
   "cell_type": "markdown",
   "id": "986ed5f2-f4b9-4535-a44a-59bc98880a3e",
   "metadata": {},
   "source": [
    "<strong>Exercise 5 - Create a markdown cell to list data science libraries. </strong>\n",
    "\n",
    "Some of the commonly used libraries used by Data Scientists include:\n",
    "<ol>\n",
    "    <li>TensorFlow.</li>\n",
    "    <li>NumPy.</li>\n",
    "    <li>SciPy.</li>\n",
    "    <li>Pandas.</li>\n",
    "    <li>Matplotlib.</li>\n",
    "    <li>Keras.</li>\n",
    "    <li>SciKit-Learn.</li>\n",
    "    <li>PyTorch.</li>\n",
    "    <li>Scrapy.</li>\n",
    "    <li>BeautifulSoup.</li>\n",
    "    <li>LightGBM.</li>\n",
    "    <li>ELI5.</li>\n",
    "    <li>Theano.</li>\n",
    "    <li>NuPIC.</li>\n",
    "    <li>Ramp.</li>\n",
    "    <li>Pipenv.</li>\n",
    "    <li>Bob.</li>\n",
    "    <li>PyBrain.</li>\n",
    "    <li>Caffe2.</li>\n",
    "    <li>Chainer.</li>\n",
    "</ol>"
   ]
  },
  {
   "cell_type": "markdown",
   "id": "6b231f09-9896-4cb8-bac3-3a5c3441bcc0",
   "metadata": {
    "tags": []
   },
   "source": [
    "<strong>Exercise 6 - Create a markdown cell with a table of Data Science tools. </strong>\n",
    "<br>\n",
    "Data Science Tools:\n",
    "\n",
    "<table style=\"width:100%\">\n",
    "  <tr>\n",
    "    <th>Data Science Tools</th>\n",
    "    <th></th>\n",
    "    <th></th>\n",
    "  </tr>\n",
    "  <tr>\n",
    "    <td>SAS.\n",
    "    <td></td>\n",
    "    <td></td>\n",
    "  </tr>\n",
    "  <tr>\n",
    "    <td>Apache Spark</td>\n",
    "    <td></td>\n",
    "    <td></td>\n",
    "  </tr>\n",
    "  <tr>\n",
    "    <td>BigML</td>\n",
    "    <td></td>\n",
    "    <td></td>\n",
    "  </tr>\n",
    "</table>"
   ]
  },
  {
   "cell_type": "markdown",
   "id": "5204e033-fa11-4159-804f-1babaa80fd59",
   "metadata": {
    "tags": []
   },
   "source": [
    "<strong>Exercise 7 - Create a markdown cell introducing arithmetic expression examples. </strong>"
   ]
  },
  {
   "cell_type": "markdown",
   "id": "2ed3e67c-85c2-4619-a20b-51c731b39f69",
   "metadata": {},
   "source": [
    "<h3>Below are a few examples of evaluating arithmetic expressions in Python</h3>"
   ]
  },
  {
   "cell_type": "code",
   "execution_count": 10,
   "id": "924cbb7c-73ac-41e3-b6f1-38c3b4ff28e7",
   "metadata": {
    "tags": []
   },
   "outputs": [
    {
     "data": {
      "text/plain": [
       "9"
      ]
     },
     "execution_count": 10,
     "metadata": {},
     "output_type": "execute_result"
    }
   ],
   "source": [
    "# Arithmetic operations\n",
    "code = compile(\"5 + 4\", \"<string>\", \"eval\")\n",
    "eval(code)\n"
   ]
  },
  {
   "cell_type": "code",
   "execution_count": 11,
   "id": "54812d0e-5675-44d1-9201-8dbdfb6ce691",
   "metadata": {
    "tags": []
   },
   "outputs": [
    {
     "data": {
      "text/plain": [
       "65449.84694978735"
      ]
     },
     "execution_count": 11,
     "metadata": {},
     "output_type": "execute_result"
    }
   ],
   "source": [
    "import math\n",
    "# Volume of a sphere\n",
    "code2 = compile(\"4 / 3 * math.pi * math.pow(25, 3)\", \"<string>\", \"eval\")\n",
    "eval(code2)\n"
   ]
  },
  {
   "cell_type": "markdown",
   "id": "7e0a387f-7f2f-47c4-a8b2-7f8530fd1db1",
   "metadata": {},
   "source": [
    "<strong>Exercise 8 - Create a code cell to multiply and add numbers.</strong>\n",
    "\n",
    "This a simple arithmetic expression to mutiply then add integers"
   ]
  },
  {
   "cell_type": "code",
   "execution_count": 12,
   "id": "3fd2f18e-fce1-49ee-9553-8ea27617ffb9",
   "metadata": {
    "tags": []
   },
   "outputs": [
    {
     "data": {
      "text/plain": [
       "17"
      ]
     },
     "execution_count": 12,
     "metadata": {},
     "output_type": "execute_result"
    }
   ],
   "source": [
    "(3*4)+5"
   ]
  },
  {
   "cell_type": "markdown",
   "id": "55196d41-d7a9-4c16-953a-5eac4bd05037",
   "metadata": {},
   "source": [
    "<strong>Exercise 9 - Create a code cell to convert minutes to hours.</strong>\n",
    "<br>\n",
    "This will convert 200 minutes to hours by diving by 60"
   ]
  },
  {
   "cell_type": "code",
   "execution_count": 13,
   "id": "6ede91c2-d88b-40d4-8b59-08f02c972443",
   "metadata": {
    "tags": []
   },
   "outputs": [
    {
     "name": "stdout",
     "output_type": "stream",
     "text": [
      "0 days, 3.3333333333333335 hours, 0 mins. \n"
     ]
    }
   ],
   "source": [
    "days = 0\n",
    "hours = 0\n",
    "mins = 0\n",
    "\n",
    "time = 200\n",
    "leftover_minutes = time % 1440\n",
    "hours = leftover_minutes / 60\n",
    "print(str(days) + \" days, \" + str(hours) + \" hours, \" + str(mins) +  \" mins. \")"
   ]
  },
  {
   "cell_type": "markdown",
   "id": "9e3f9330-4ed4-483b-b9a6-67d345b8fe85",
   "metadata": {
    "tags": []
   },
   "source": [
    "<strong>Exercise 10 -Insert a markdown cell to list Objectives.</strong>"
   ]
  },
  {
   "cell_type": "markdown",
   "id": "cfc07a1a-8eb4-4169-8881-09d09b30a0f0",
   "metadata": {
    "tags": []
   },
   "source": [
    "<strong>Objectives:</strong>\n",
    "<ul>\n",
    "    <li>List popular languages that Data Scientists use.</li>\n",
    "    <li>List commonly used libraries used by Data Scientists.</li>\n",
    "    <li>Comment on Data Science tools.</li>\n",
    "</ul>"
   ]
  },
  {
   "cell_type": "markdown",
   "id": "ce3ef301-27bf-41e4-843d-91f61d0799ed",
   "metadata": {
    "tags": []
   },
   "source": [
    "<strong>Exercise 11 - Create a markdown cell to indicate the Author’s name.</strong>"
   ]
  },
  {
   "cell_type": "markdown",
   "id": "8bf0127c-4918-41b2-975d-234d3da497ea",
   "metadata": {
    "tags": []
   },
   "source": [
    "<h2>Author:</h2> Amna Farooq Khawaja"
   ]
  },
  {
   "cell_type": "code",
   "execution_count": null,
   "id": "a32a49be",
   "metadata": {},
   "outputs": [],
   "source": []
  }
 ],
 "metadata": {
  "kernelspec": {
   "display_name": "Python 3 (ipykernel)",
   "language": "python",
   "name": "python3"
  },
  "language_info": {
   "codemirror_mode": {
    "name": "ipython",
    "version": 3
   },
   "file_extension": ".py",
   "mimetype": "text/x-python",
   "name": "python",
   "nbconvert_exporter": "python",
   "pygments_lexer": "ipython3",
   "version": "3.9.13"
  }
 },
 "nbformat": 4,
 "nbformat_minor": 5
}
